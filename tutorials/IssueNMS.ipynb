{
 "cells": [
  {
   "cell_type": "code",
   "execution_count": 15,
   "metadata": {},
   "outputs": [
    {
     "name": "stdout",
     "output_type": "stream",
     "text": [
      "[[0]\n",
      " [1]\n",
      " [4]]\n",
      "-------\n",
      "[[ 0]\n",
      " [ 1]\n",
      " [ 4]\n",
      " [ 5]\n",
      " [10]\n",
      " [18]]\n"
     ]
    }
   ],
   "source": [
    "import cv2\n",
    "listBoxes = [\n",
    " (946, 784, 414, 400),\n",
    " (1525, 968, 414, 400),\n",
    " (1533, 960, 414, 400),\n",
    " (947, 784, 400, 414),\n",
    " (1173, 1354, 414, 400),\n",
    " (1459, 474, 400, 414),\n",
    " (1021, 888, 414, 400),\n",
    " (1450, 492, 400, 414),\n",
    " (1398, 889, 414, 400),\n",
    " (1005, 872, 400, 414),\n",
    " (686, 1367, 414, 400),\n",
    " (697, 1371, 414, 400),\n",
    " (694, 1371, 414, 400),\n",
    " (1128, 1377, 414, 400),\n",
    " (950, 787, 414, 400),\n",
    " (1438, 481, 414, 400),\n",
    " (1064, 1238, 414, 400),\n",
    " (1455, 485, 414, 400),\n",
    " (111, 787, 414, 400),\n",
    " (109, 782, 414, 400)]\n",
    "\n",
    "listScores = [\n",
    " 1.0,\n",
    " 0.5919371843338013,\n",
    " 0.5894666314125061,\n",
    " 0.5689446926116943,\n",
    " 0.5510676503181458,\n",
    " 0.5381054282188416,\n",
    " 0.5311822891235352,\n",
    " 0.5298448204994202,\n",
    " 0.5123124122619629,\n",
    " 0.511840283870697,\n",
    " 0.5080571174621582,\n",
    " 0.5080069303512573,\n",
    " 0.5079731941223145,\n",
    " 0.5000045895576477,\n",
    " 0.49151238799095154,\n",
    " 0.4728872776031494,\n",
    " 0.4612887501716614,\n",
    " 0.4540329873561859,\n",
    " 0.4483684003353119,\n",
    " 0.44806933403015137]\n",
    "\n",
    "'''\n",
    "# Cast boxes to float\n",
    "convertBox = lambda box : list(map(float, box)) \n",
    "listBoxes = list(map(convertBox, listBoxes))\n",
    "print (listBoxes)\n",
    "'''\n",
    "\n",
    "indexes1 = cv2.dnn.NMSBoxes(listBoxes, listScores, score_threshold=0.4, nms_threshold=0.3, top_k=5)\n",
    "print(indexes1)\n",
    "\n",
    "print(\"-------\")\n",
    "\n",
    "indexes2 = cv2.dnn.NMSBoxes(listBoxes, listScores, score_threshold=0.4, nms_threshold=0.3)\n",
    "print(indexes2)"
   ]
  },
  {
   "cell_type": "code",
   "execution_count": 9,
   "metadata": {},
   "outputs": [
    {
     "data": {
      "text/plain": [
       "'4.3.0'"
      ]
     },
     "execution_count": 9,
     "metadata": {},
     "output_type": "execute_result"
    }
   ],
   "source": [
    "cv2.__version__"
   ]
  },
  {
   "cell_type": "code",
   "execution_count": null,
   "metadata": {},
   "outputs": [],
   "source": []
  }
 ],
 "metadata": {
  "kernelspec": {
   "display_name": "Python 3",
   "language": "python",
   "name": "python3"
  },
  "language_info": {
   "codemirror_mode": {
    "name": "ipython",
    "version": 3
   },
   "file_extension": ".py",
   "mimetype": "text/x-python",
   "name": "python",
   "nbconvert_exporter": "python",
   "pygments_lexer": "ipython3",
   "version": "3.7.4"
  }
 },
 "nbformat": 4,
 "nbformat_minor": 4
}
